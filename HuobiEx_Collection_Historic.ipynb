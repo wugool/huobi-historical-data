{
 "cells": [
  {
   "cell_type": "markdown",
   "metadata": {},
   "source": [
    "# 火币基础数据收集（Huobi Historic Data Collection）"
   ]
  },
  {
   "cell_type": "markdown",
   "metadata": {},
   "source": [
    "**When Using a Proxy：**\n",
    "\n",
    "File: \\Huobi\\Impl\\websocketconnection.py \n",
    "\n",
    "connection_instance.ws.run_forever(sslopt={\"cert_reqs\": ssl.CERT_NONE}, http_proxy_host=\"127.0.0.1\", http_proxy_port=1881)"
   ]
  },
  {
   "cell_type": "code",
   "execution_count": null,
   "metadata": {},
   "outputs": [],
   "source": [
    "from huobi import *\n",
    "from huobi.model import *\n",
    "\n",
    "import json\n",
    "import time\n",
    "import pandas as pd\n",
    "import datetime"
   ]
  },
  {
   "cell_type": "code",
   "execution_count": null,
   "metadata": {},
   "outputs": [],
   "source": [
    "import mysql.connector as db\n",
    "\n",
    "db_config = {\n",
    "    \"database\": \"Huobi_Ex\",\n",
    "    \"user\": \"root\",\n",
    "    \"password\": \"root\",\n",
    "    \"host\": \"localhost\",\n",
    "    \"port\": 3306,\n",
    "}\n",
    "\n",
    "# 连接数据库获取游标，可以设置返回数据的格式，元组，命令元组，字典等...\n",
    "connect = db.Connect(**db_config)\n",
    "cursor = connect.cursor()"
   ]
  },
  {
   "cell_type": "code",
   "execution_count": null,
   "metadata": {},
   "outputs": [],
   "source": [
    "subscription_client = SubscriptionClient(api_key=\"ae957d1d-e1d269ee-18b8966a-bewr5drtmh\", secret_key=\"ca77afb2-b0eb07e2-ad910eae-6df30\")\n",
    "\n",
    "#subscription_client = SubscriptionClient()\n",
    "subscription_client.unsubscribe_all()\n",
    "\n",
    "def callback(candlestick_event: 'CandlestickEvent'):\n",
    "    sqli = \"replace into `kline_%(symbol)s_%(period)s` (`amount`, `open`, `close`, `high`, `id`, `count`, `low`, `vol`) \\\n",
    "        select %(amount)s, %(open)s, %(close)s, %(high)s, %(id)s, %(count)s, %(low)s, %(vol)s where \\\n",
    "        not exists(select id from `kline_%(symbol)s_%(period)s` where id = %(id)s and amount = %(amount)s) \"\n",
    "    \n",
    "\n",
    "    \n",
    "    #print(candlestick_event.symbol)\n",
    "    #print(candlestick_event.interval)\n",
    "    item = {}\n",
    "    i = 0\n",
    "    j = 0\n",
    "    \n",
    "    for candlestick in candlestick_event.data:\n",
    "        item.update({\"symbol\":candlestick_event.symbol,\\\n",
    "                     \"period\":candlestick_event.interval,\\\n",
    "                     \"id\":candlestick.id,\\\n",
    "                     \"open\":candlestick.open,\\\n",
    "                     \"close\":candlestick.close,\\\n",
    "                     \"low\":candlestick.low,\\\n",
    "                     \"high\":candlestick.high,\\\n",
    "                     \"amount\":candlestick.amount,\\\n",
    "                     \"count\":candlestick.count,\\\n",
    "                     \"vol\":candlestick.volume,\\\n",
    "                    })\n",
    "        sqlcmd = sqli%(item)\n",
    "        #print(sqlcmd)\n",
    "        cursor.execute(sqlcmd)\n",
    "    \n",
    "        if cursor.rowcount == 2 :\n",
    "            j += 1\n",
    "        else :\n",
    "            i+=cursor.rowcount\n",
    "        \n",
    "        #print(cursor.rowcount)\n",
    "        i += j//2\n",
    "    \n",
    "    connect.commit()\n",
    "    print(\"keypair:%s :: period:%s,  rows:%s, effect rows:%s, update rows:%s || %s\"%(candlestick_event.symbol.rjust(10,' '), candlestick_event.interval.rjust(8,' '), str(len(candlestick_event.data)).rjust(5,' '), str(i).rjust(5,' '), str(j).rjust(5,' '),  item[\"id\"]))\n"
   ]
  },
  {
   "cell_type": "code",
   "execution_count": null,
   "metadata": {},
   "outputs": [],
   "source": [
    "k = 0\n",
    "n = 3\n",
    "\n",
    "endtimeflag = datetime.date(2020, 5, 3)\n",
    "print(int(time.mktime(endtimeflag.timetuple())))"
   ]
  },
  {
   "cell_type": "code",
   "execution_count": null,
   "metadata": {},
   "outputs": [],
   "source": [
    "#symbol: 'btcusdt', 'ethusdt', 'htusdt', 'xrpusdt', 'ltcusdt', 'bchusdt', 'eosusdt', 'etcusdt', \\\n",
    "#         'bsvusdt', 'trxusdt', 'xmrusdt', 'hb10usdt', 'zecusdt', 'dashusdt', 'adausdt', 'iotausdt', \\\n",
    "#         'newusdt', 'seeleusdt', 'wiccusdt', 'ontusdt', 'mxusdt', 'hptusdt', 'ektusdt', 'gtusdt', \\\n",
    "#         'lambusdt', 'bixusdt', 'linkusdt', 'algousdt', 'wavesusdt', 'vidyusdt', 'atomusdt', 'iostusdt', 'qtumusdt'\n",
    "\n",
    "#interval: 1min, 5min, 15min, 30min, 60min, 4hour, 1day, 1mon, 1week, 1year\n",
    "#from : [1501174800, 2556115200]\n",
    "#to :[1501174800, 2556115200]\n",
    "#1582500000 : Timestamp('2020-02-24 07:20:00')\n",
    "#size : (0,300]\n",
    "\n",
    "#主流前9个\n",
    "\n",
    "periods = ['1min', '5min', '15min', '30min', '60min', '4hour']\n",
    "\n",
    "# symbol =  ['btcusdt', 'ethusdt', 'xrpusdt', 'ltcusdt', 'bchusdt', 'eosusdt', 'etcusdt', \\\n",
    "#          'bsvusdt', 'trxusdt', 'xmrusdt', 'hb10usdt', 'linkusdt', 'zecusdt', 'dashusdt', 'adausdt', 'iotausdt', \\\n",
    "#          'newusdt', 'seeleusdt', 'wiccusdt', 'ontusdt', 'mxusdt', 'hptusdt', 'ektusdt', 'gtusdt', \\\n",
    "#          'lambusdt', 'bixusdt', 'algousdt', 'wavesusdt', 'vidyusdt', 'atomusdt', 'iostusdt', 'qtumusdt']\n",
    "\n",
    "#symbol =  ['htbtc', 'ethbtc', 'etcbtc', 'bsvbtc', 'linkbtc', 'xrpbtc', 'ltcbtc', 'bchbtc', 'eosbtc']\n",
    "#symbol =  ['htusdt', 'ethusdt', 'etcusdt', 'bsvusdt', 'linkusdt', 'xrpusdt', 'ltcbtc', 'bchusdt', 'eosusdt']\n",
    "\n",
    "symbol = ['btcusdt', 'ethusdt', 'htusdt', 'xrpusdt', 'ltcusdt', 'bchusdt', 'eosusdt', 'etcusdt', 'bsvusdt', 'linkusdt', \\\n",
    "          'ethbtc', 'htbtc', 'xrpbtc', 'ltcbtc', 'bchbtc', 'eosbtc', 'etcbtc', 'bsvbtc', 'linkbtc', ]\n",
    "\n",
    "timestep = [60, 300, 900, 1800, 3600, 14400] \n",
    "step = 300\n",
    "fromtime = 1517464800 # htbtc\n",
    "fromtime = 1508990400 + 0 * step * timestep[k] if(n==1 or n==10)  else fromtime  #ethbtc\n",
    "fromtime = 1509422460 + 0 * step * timestep[k] if(n==2 or n==11) else fromtime  #etcbtc\n",
    "fromtime = 1543564800 + 0 * step * timestep[k] if(n==3 or n==12) else fromtime  #bsvbtc\n",
    "fromtime = 1517464800 + 0 * step * timestep[k] if(n==4 or n==13) else fromtime  #linkbtc\n",
    "fromtime = 1511452800 + 0 * step * timestep[k] if(n==5 or n==14) else fromtime  #xrpbtc\n",
    "fromtime = 1501237440 + 0 * step * timestep[k] if(n==6 or n==15) else fromtime  #ltcbtc\n",
    "fromtime = 1509292800 + 0 * step * timestep[k] if(n==7 or n==16) else fromtime  #bchbtc\n",
    "fromtime = 1510934400 + 0 * step * timestep[k] if(n==8 or n==17) else fromtime  #eosbtc\n",
    "fromtime = 1545127200 + 0 * step * timestep[k] if(n==9 or n==18) else fromtime  #linkbtc\n",
    "\n",
    "#fromtime = 1588348800 #step in point\n",
    "\n",
    "sfromtime = fromtime\n",
    "\n",
    "endtime = 1588435200 #end point"
   ]
  },
  {
   "cell_type": "code",
   "execution_count": null,
   "metadata": {
    "scrolled": true
   },
   "outputs": [],
   "source": [
    "print(len(symbol))"
   ]
  },
  {
   "cell_type": "code",
   "execution_count": null,
   "metadata": {
    "scrolled": false
   },
   "outputs": [],
   "source": [
    "while fromtime < endtime and n < len(symbol) :\n",
    "    subscription_client.request_candlestick_event(symbol[n], periods[k], callback, from_ts_second=fromtime,end_ts_second=fromtime + step * timestep[k], auto_close=True, error_handler=None) #1582500000\n",
    "    time.sleep(5)\n",
    "    fromtime = fromtime + step * timestep[k]\n",
    "\n",
    "    if fromtime >= endtime :\n",
    "        k = k+1\n",
    "        fromtime = sfromtime\n",
    "        \n",
    "    if k == 6 :\n",
    "        k = 0\n",
    "        n = n+1\n",
    "        fromtime = sfromtime\n",
    "\n",
    "time.sleep(60)\n",
    "cursor.close()\n"
   ]
  },
  {
   "cell_type": "code",
   "execution_count": null,
   "metadata": {},
   "outputs": [],
   "source": []
  }
 ],
 "metadata": {
  "kernelspec": {
   "display_name": "Python 3",
   "language": "python",
   "name": "python3"
  },
  "language_info": {
   "codemirror_mode": {
    "name": "ipython",
    "version": 3
   },
   "file_extension": ".py",
   "mimetype": "text/x-python",
   "name": "python",
   "nbconvert_exporter": "python",
   "pygments_lexer": "ipython3",
   "version": "3.7.1"
  }
 },
 "nbformat": 4,
 "nbformat_minor": 4
}
