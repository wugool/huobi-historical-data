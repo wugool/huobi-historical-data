{
 "cells": [
  {
   "cell_type": "markdown",
   "metadata": {},
   "source": [
    "# 火币基础数据收集-异常处理(Huobi Candle Collecting-Exception Handling)"
   ]
  },
  {
   "cell_type": "code",
   "execution_count": null,
   "metadata": {},
   "outputs": [],
   "source": [
    "from huobi import *\n",
    "from huobi.model import *\n",
    "\n",
    "import json\n",
    "import time\n",
    "import pandas as pd\n",
    "import datetime"
   ]
  },
  {
   "cell_type": "code",
   "execution_count": null,
   "metadata": {},
   "outputs": [],
   "source": [
    "import mysql.connector as db\n",
    "\n",
    "db_config = {\n",
    "    \"database\": \"Huobi_Ex\",\n",
    "    \"user\": \"root\",\n",
    "    \"password\": \"root\",\n",
    "    \"host\": \"localhost\",\n",
    "    \"port\": 3306,\n",
    "}\n",
    "\n",
    "# 连接数据库获取游标，可以设置返回数据的格式，元组，命令元组，字典等...\n",
    "connect = db.connect(**db_config)"
   ]
  },
  {
   "cell_type": "code",
   "execution_count": null,
   "metadata": {},
   "outputs": [],
   "source": [
    "#subscription_client = SubscriptionClient(api_key=\"*****************\", secret_key=\"*****************\")\n",
    "\n",
    "subscription_client = SubscriptionClient()\n",
    "subscription_client.unsubscribe_all()\n",
    "\n",
    "def callback(candlestick_event: 'CandlestickEvent'):\n",
    "    sqli = \"replace into `kline_%(symbol)s_%(period)s` (`amount`, `open`, `close`, `high`, `id`, `count`, `low`, `vol`) \\\n",
    "        select %(amount)s, %(open)s, %(close)s, %(high)s, %(id)s, %(count)s, %(low)s, %(vol)s where \\\n",
    "        not exists(select id from `kline_%(symbol)s_%(period)s` where id = %(id)s and amount = %(amount)s) \"\n",
    "    \n",
    "    #print(candlestick_event.symbol)\n",
    "    #print(candlestick_event.interval)\n",
    "    item = {}\n",
    "    i = 0\n",
    "    j = 0\n",
    "    \n",
    "    for candlestick in candlestick_event.data:\n",
    "        item.update({\"symbol\":candlestick_event.symbol,\\\n",
    "                     \"period\":candlestick_event.interval,\\\n",
    "                     \"id\":candlestick.id,\\\n",
    "                     \"open\":candlestick.open,\\\n",
    "                     \"close\":candlestick.close,\\\n",
    "                     \"low\":candlestick.low,\\\n",
    "                     \"high\":candlestick.high,\\\n",
    "                     \"amount\":candlestick.amount,\\\n",
    "                     \"count\":candlestick.count,\\\n",
    "                     \"vol\":candlestick.volume,\\\n",
    "                    })\n",
    "        sqlcmd = sqli%(item)\n",
    "        #print(sqlcmd)\n",
    "        cursor.execute(sqlcmd)\n",
    "    \n",
    "        if cursor.rowcount == 2 :\n",
    "            j += 1\n",
    "        else :\n",
    "            i+=cursor.rowcount\n",
    "        \n",
    "        #print(cursor.rowcount)\n",
    "        i += j//2\n",
    "    \n",
    "    connect.commit()\n",
    "    print(\"keypair:%s :: period:%s,  rows:%s, effect rows:%s, update rows:%s || %s\"%(candlestick_event.symbol.rjust(10,' '), candlestick_event.interval.rjust(8,' '), str(len(candlestick_event.data)).rjust(5,' '), str(i).rjust(5,' '), str(j).rjust(5,' '),  item[\"id\"]))\n"
   ]
  },
  {
   "cell_type": "code",
   "execution_count": null,
   "metadata": {},
   "outputs": [],
   "source": [
    "endtimeflag = datetime.date(2020, 5, 3)\n",
    "print(int(time.mktime(endtimeflag.timetuple())))"
   ]
  },
  {
   "cell_type": "code",
   "execution_count": null,
   "metadata": {},
   "outputs": [],
   "source": [
    "#symbol: 'btcusdt', 'ethusdt', 'htusdt', 'xrpusdt', 'ltcusdt', 'bchusdt', 'eosusdt', 'etcusdt', \\\n",
    "#         'bsvusdt', 'trxusdt', 'zecusdt', 'dashusdt', 'adausdt', 'iotausdt', 'xmrusdt', 'hb10usdt', \\\n",
    "#         'newusdt', 'seeleusdt', 'wiccusdt', 'ontusdt', 'mxusdt', 'hptusdt', 'ektusdt', 'gtusdt', \\\n",
    "#         'lambusdt', 'bixusdt', 'linkusdt', 'algousdt', 'wavesusdt', 'vidyusdt', 'atomusdt', 'iostusdt', 'qtumusdt'\n",
    "\n",
    "#interval: 1min, 5min, 15min, 30min, 60min, 4hour, 1day, 1mon, 1week, 1year\n",
    "#from : [1501174800, 2556115200]8\n",
    "#to :[1501174800, 2556115200]\n",
    "#1582500000 : Timestamp('2020-02-24 07:20:00')\n",
    "#size : (0,300]\n",
    "\n",
    "periods = ['1min', '5min', '15min', '30min', '60min', '4hour']\n",
    "# symbol =  ['btcusdt', 'ethusdt', 'htusdt', 'htbtc', 'xrpusdt', 'ltcusdt', 'bchusdt', 'eosusdt', 'etcusdt', \\\n",
    "#          'bsvusdt', 'trxusdt', 'xmrusdt', 'hb10usdt', 'linkusdt', 'zecusdt', 'dashusdt', 'adausdt', 'iotausdt', \\\n",
    "#          'newusdt', 'seeleusdt', 'wiccusdt', 'ontusdt', 'mxusdt', 'hptusdt', 'ektusdt', 'gtusdt', \\\n",
    "#          'lambusdt', 'bixusdt', 'algousdt', 'wavesusdt', 'vidyusdt', 'atomusdt', 'iostusdt', 'qtumusdt']\n",
    "symbol =  ['htbtc', 'ethbtc', 'etcbtc', 'bsvbtc', 'linkbtc', 'xrpbtc', 'ltcbtc', 'bchbtc', 'eosbtc']\n",
    "timestep = [60, 300, 900, 1800, 3600, 14400] \n",
    "step = 300\n",
    "fromtime = 1501387200\n",
    "endtime = 1582500000\n",
    "\n",
    "# 1508990400 Timestamp('2017-10-26 12:00:00')"
   ]
  },
  {
   "cell_type": "code",
   "execution_count": null,
   "metadata": {
    "scrolled": false
   },
   "outputs": [],
   "source": [
    "n=8\n",
    "k=0\n",
    "\n",
    "cursor = connect.cursor()\n",
    "\n",
    "startpoint = 1580934400\n",
    "errorlist =range(0,10, 1) #[121, 220, 246, 249, 440, 459, 475, 533, 682, ] #range(69, 101, 1) #1571062920\n",
    "\n",
    "for item in errorlist: \n",
    "    fromtime = startpoint + step * timestep[k] * (item -1) #1530783200\n",
    "    subscription_client.request_candlestick_event(symbol[n], periods[k], callback, from_ts_second=fromtime,end_ts_second=fromtime + step * timestep[k], auto_close=True, error_handler=None) #1582500000\n",
    "    time.sleep(5)\n",
    "\n",
    "time.sleep(30)\n",
    "cursor.close()"
   ]
  },
  {
   "cell_type": "code",
   "execution_count": null,
   "metadata": {},
   "outputs": [],
   "source": []
  }
 ],
 "metadata": {
  "kernelspec": {
   "display_name": "Python 3",
   "language": "python",
   "name": "python3"
  },
  "language_info": {
   "codemirror_mode": {
    "name": "ipython",
    "version": 3
   },
   "file_extension": ".py",
   "mimetype": "text/x-python",
   "name": "python",
   "nbconvert_exporter": "python",
   "pygments_lexer": "ipython3",
   "version": "3.7.1"
  }
 },
 "nbformat": 4,
 "nbformat_minor": 4
}
