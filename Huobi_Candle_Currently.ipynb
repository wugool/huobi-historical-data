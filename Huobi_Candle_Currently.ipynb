{
 "cells": [
  {
   "cell_type": "markdown",
   "metadata": {},
   "source": [
    "# 火币数据收集程序(Huobi Candle Data Collecting)\n",
    "\n",
    "- 数据源:**火币（Huobi）**[https://api.huobi.io]\n",
    "- 主要币种：10 coins\n",
    "- 存储对象：mysql\n",
    "- pip install mysql-connector\n",
    "\n",
    "\n",
    "-  **获取蜡烛图(Candle Collecting)**"
   ]
  },
  {
   "cell_type": "markdown",
   "metadata": {},
   "source": [
    "## 创建数据库(Create Database)：\n",
    "\n",
    "CREATE DATABASE IF NOT EXISTS Huobi_Ex DEFAULT CHARSET utf8 COLLATE utf8_general_ci;\n",
    "\n",
    "## 创建数据表(Create Tables)：\n",
    "\n",
    "下面会通过这个模板创建对应的表\n",
    "CREATE TABLE kline_%(symbol)s_%(period)s \n",
    "    (`amount` decimal(30,18) , `open` decimal(30,18), `close` decimal(30,18), `high` decimal(30,18), `id` bigint,\n",
    "    `count` decimal(30,18), `low` decimal(30,18), `vol` decimal(30,18),\n",
    "    constraint primary key(id));"
   ]
  },
  {
   "cell_type": "code",
   "execution_count": null,
   "metadata": {},
   "outputs": [],
   "source": [
    "#from gevent import monkey; monkey.patch_all()\n",
    "import time\n",
    "import requests\n",
    "import json\n",
    "import json\n",
    "import mysql.connector as db\n",
    "import random\n",
    "#import gevent\n",
    "import os\n",
    "from IPython.display import clear_output as clear\n",
    "import datetime"
   ]
  },
  {
   "cell_type": "code",
   "execution_count": null,
   "metadata": {
    "scrolled": false
   },
   "outputs": [],
   "source": [
    "db_config = {\n",
    "    \"database\": \"Huobi_Ex\",\n",
    "    \"user\": \"root\",\n",
    "    \"password\": \"root\",\n",
    "    \"host\": \"localhost\",\n",
    "    \"port\": 3306,\n",
    "}\n",
    "\n",
    "# 连接数据库获取游标，可以设置返回数据的格式，元组，命令元组，字典等...\n",
    "connect = db.Connect(**db_config)"
   ]
  },
  {
   "cell_type": "code",
   "execution_count": null,
   "metadata": {
    "scrolled": false
   },
   "outputs": [],
   "source": [
    "periods = ['1min', '5min', '15min', '30min', '60min', '4hour', '1day', '1week', '1mon', '1year']\n",
    "\n",
    "symbols = ['btcusdt', 'ethusdt', 'htusdt', 'xrpusdt', 'ltcusdt', 'bchusdt', 'eosusdt', 'etcusdt', 'bsvusdt', 'linkusdt', \\\n",
    "          'ethbtc', 'htbtc', 'xrpbtc', 'ltcbtc', 'bchbtc', 'eosbtc', 'etcbtc', 'bsvbtc', 'linkbtc', ]\n",
    "\n",
    "cpair = len(symbols)"
   ]
  },
  {
   "cell_type": "code",
   "execution_count": null,
   "metadata": {
    "scrolled": false
   },
   "outputs": [],
   "source": [
    "def getCreateTableScript():\n",
    "    print(\"# create table script\");\n",
    "    for period in periods: \n",
    "        for symbol in symbols:\n",
    "            print(\"CREATE TABLE kline_%(symbol)s_%(period)s(\"%{\"symbol\":symbol, \"period\":period})\n",
    "            print(\"  `amount` decimal(30,18) , `open` decimal(30,18), `close` decimal(30,18), `high` decimal(30,18), `id` bigint,\")\n",
    "            print(\"  `count` decimal(30,18), `low` decimal(30,18), `vol` decimal(30,18),\")\n",
    "            print(\"  constraint primary key(id)\")\n",
    "            print(\");\");"
   ]
  },
  {
   "cell_type": "code",
   "execution_count": null,
   "metadata": {},
   "outputs": [],
   "source": [
    "def OnMarketKline(symbol='btcusdt', period='1min', size =2000, isFile = False):\n",
    "    i = 0\n",
    "    j = 0\n",
    "    if size>2000 :\n",
    "        size = 2000\n",
    "    elif size < 200 :\n",
    "        size = 200\n",
    "    #&AccessKeyId=%(AccessKeyId)s&Timestamp=%(Timestamp)s\n",
    "    url=\"https://api.huobi.pro/market/history/kline?period=%(period)s&size=%(size)s&symbol=%(symbol)s\" \\\n",
    "        %{'symbol':symbol, 'period':period, 'size':size, 'AccessKeyId':'ae957d1d-e1d269ee-18b8966a-bewr5drtmh','Timestamp':time.strftime(\"%Y-%m-%d %H:%M:%S\", time.localtime())}\n",
    "    \n",
    "    #print(url)\n",
    "    #{'Content-Type': 'application/json'}, \n",
    "\n",
    "    try:\n",
    "        if isFile == False:\n",
    "            if isProxy == False:\n",
    "                response = requests.get(url, {'Content-Type': 'application/json'}, verify=True, timeout=600) #,verify=False\n",
    "            else:\n",
    "                proxDict = {\"http\":\"127.0.0.1:1881\",\n",
    "                            \"https\":\"127.0.0.1:1881\",\n",
    "                           }\n",
    "                response = requests.get(url, {'Content-Type': 'application/json'}, verify=True, timeout=600, proxies=proxDict) #,verify=False\n",
    "            result = json.loads(response.text)\n",
    "        else :\n",
    "            f = open('./resp/'+symbol+'_'+period+'.json')\n",
    "            lines = f.read()\n",
    "            f.close()\n",
    "            result = json.loads(lines)\n",
    "            \n",
    "        if  result[\"status\"] == 'ok' and result[\"ch\"] != False :\n",
    "            ch = result[\"ch\"].split(\".\")\n",
    "            symbol=ch[1]\n",
    "            period=ch[3]\n",
    "\n",
    "        if result[\"status\"] == 'ok':\n",
    "            cursor = connect.cursor()\n",
    "            #'amount\",\"open\": ,\"close\": ,\"high\": ,\"id\": ,\"count\": ,\"low\": ,\"vol\"\n",
    "            sqli = \"replace into `kline_%(symbol)s_%(period)s` (`amount`, `open`, `close`, `high`, `id`, `count`, `low`, `vol`) \\\n",
    "                     select %(amount)s, %(open)s, %(close)s, %(high)s, %(id)s, %(count)s, %(low)s, %(vol)s where \\\n",
    "                     not exists(select id from `kline_%(symbol)s_%(period)s` where id = %(id)s and amount = %(amount)s) \"\n",
    "\n",
    "            for item in result[\"data\"] :\n",
    "                item.update({\"symbol\":symbol,\"period\":period})\n",
    "                sqlcmd = sqli%(item)\n",
    "                #print(sqlcmd)\n",
    "                cursor.execute(sqlcmd)\n",
    "\n",
    "                if cursor.rowcount == 2 :\n",
    "                    j += 1\n",
    "                else :\n",
    "                    i+=cursor.rowcount\n",
    "                \n",
    "                #print(cursor.rowcount)\n",
    "            i += j//2\n",
    "            connect.commit()\n",
    "            print(\"keypair:%s :: period:%s,  rows:%s, effect rows:%s, update rows:%s || %s\"%(symbol.rjust(10,' '), period.rjust(8,' '), str(len(result[\"data\"])).rjust(5,' '), str(i).rjust(5,' '), str(j).rjust(5,' '), time.strftime(\"%Y-%m-%d %H:%M:%S\", time.localtime())))\n",
    "            cursor.close()\n",
    "        else :\n",
    "            print(\"status:%s, ch:%s, data:%s\"%(result[\"status\"],result[\"ch\"],len(result[\"data\"])))\n",
    "        \n",
    "        if i == 0 and len(result[\"data\"]) > 0:\n",
    "            i = -1\n",
    "        return i\n",
    "    except Exception as e:\n",
    "        if hasattr(e,\"reason\"):\n",
    "            print(\"失败原因:\",e.reason)\n",
    "        if hasattr(e,\"code\"):\n",
    "            print(\"错误代码:\",e.code)\n",
    "            print(\"返回内容:\",e.read())\n",
    "        else:\n",
    "            print(e)\n",
    "    \n",
    "    return i"
   ]
  },
  {
   "cell_type": "code",
   "execution_count": null,
   "metadata": {},
   "outputs": [],
   "source": [
    "def checkingForCompleteScript(symbol='btcusdt'):\n",
    "    print(\"select max(id) as maxid, min(id) as minid, (max(id) - min(id))/60 as calitems, count(*) as realitems from `kline_\"+ symbol +\"_1min`;\")\n",
    "    print(\"select max(id) as maxid, min(id) as minid, (max(id) - min(id))/(60*5) as calitems, count(*) as realitems from `kline_\"+ symbol +\"_5min`;\")\n",
    "    print(\"select max(id) as maxid, min(id) as minid, (max(id) - min(id))/(60*15) as calitems, count(*) as realitems from `kline_\"+ symbol +\"_15min`;\")\n",
    "    print(\"select max(id) as maxid, min(id) as minid, (max(id) - min(id))/(60*30) as calitems, count(*) as realitems from `kline_\"+ symbol +\"_30min`;\")\n",
    "    print(\"select max(id) as maxid, min(id) as minid, (max(id) - min(id))/(60*60) as calitems, count(*) as realitems from `kline_\"+ symbol +\"_60min`;\")\n",
    "    print(\"select max(id) as maxid, min(id) as minid, (max(id) - min(id))/(60*240) as calitems, count(*) as realitems from `kline_\"+ symbol +\"_4hour`;\")"
   ]
  },
  {
   "cell_type": "code",
   "execution_count": null,
   "metadata": {},
   "outputs": [],
   "source": [
    "def getoutputscript(symbol='btcusdt', period='1min', outpath = 'C:/mysql_data/output/'):\n",
    "    dateflag17 = datetime.date(2017, 1, 1)\n",
    "    flag17 = str(int(time.mktime(dateflag17.timetuple())))\n",
    "    \n",
    "    dateflag18 = datetime.date(2018, 1, 1)\n",
    "    flag18 = str(int(time.mktime(dateflag18.timetuple())))\n",
    "    \n",
    "    dateflag19 = datetime.date(2019, 1, 1)\n",
    "    flag19 = str(int(time.mktime(dateflag19.timetuple())))\n",
    "    \n",
    "    dateflag20 = datetime.date(2020, 1, 1)\n",
    "    flag20 = str(int(time.mktime(dateflag20.timetuple())))\n",
    "    \n",
    "    dateflag20_cMonth = datetime.date(2020, 5, 1)\n",
    "    flag20_cMonth = str(int(time.mktime(dateflag20_cMonth.timetuple())))\n",
    "    \n",
    "    print(\"select * from (SELECT 'id', 'open', 'high', 'low', 'close', 'vol', 'count', 'amount' union\")\n",
    "    print(\"SELECT `id`, `open`, `high`, `low`, `close`, `vol`, `count`, `amount` \")\n",
    "    print(\"FROM kline_\" + symbol + \"_\"+ period +\" WHERE id >=  \"+ flag17 +\" and id < \" + flag18 + \") ohlcv INTO OUTFILE '\"+ outpath + symbol + \"_\"+ period +\"_2017.csv'  FIELDS TERMINATED BY ',';\")\n",
    "    print(\"\")\n",
    "    print(\"select * from (SELECT 'id', 'open', 'high', 'low', 'close', 'vol', 'count', 'amount' union\")\n",
    "    print(\"SELECT `id`, `open`, `high`, `low`, `close`, `vol`, `count`, `amount` \")\n",
    "    print(\"FROM kline_\" + symbol + \"_\"+ period +\" WHERE id >=  \"+ flag18 +\" and id < \" + flag19 + \") ohlcv INTO OUTFILE '\"+ outpath + symbol + \"_\"+ period +\"_2018.csv'  FIELDS TERMINATED BY ',';\")\n",
    "    print(\"\")\n",
    "    print(\"select * from (SELECT 'id', 'open', 'high', 'low', 'close', 'vol', 'count', 'amount' union\")\n",
    "    print(\"SELECT `id`, `open`, `high`, `low`, `close`, `vol`, `count`, `amount` \")\n",
    "    print(\"FROM kline_\" + symbol + \"_\"+ period +\" WHERE id >=  \"+ flag19 +\" and id < \" + flag20 + \") ohlcv INTO OUTFILE '\"+ outpath + symbol + \"_\"+ period +\"_2019.csv'  FIELDS TERMINATED BY ',';\")\n",
    "    print(\"\")\n",
    "    print(\"select * from (SELECT 'id', 'open', 'high', 'low', 'close', 'vol', 'count', 'amount' union\")\n",
    "    print(\"SELECT `id`, `open`, `high`, `low`, `close`, `vol`, `count`, `amount` \")\n",
    "    print(\"FROM kline_\" + symbol + \"_\"+ period +\" WHERE id >=  \"+ flag20 +\" and id < \" + flag20_cMonth + \") ohlcv INTO OUTFILE '\"+ outpath + symbol + \"_\"+ period +\"_2020_1-4.csv'  FIELDS TERMINATED BY ',';\")\n",
    "    print(\"\")"
   ]
  },
  {
   "cell_type": "code",
   "execution_count": null,
   "metadata": {
    "scrolled": false
   },
   "outputs": [],
   "source": [
    "getCreateTableScript()"
   ]
  },
  {
   "cell_type": "code",
   "execution_count": null,
   "metadata": {},
   "outputs": [],
   "source": [
    "getoutputscript(symbols[0])"
   ]
  },
  {
   "cell_type": "code",
   "execution_count": null,
   "metadata": {},
   "outputs": [],
   "source": [
    "checkingForCompleteScript(symbols[0])"
   ]
  },
  {
   "cell_type": "code",
   "execution_count": null,
   "metadata": {
    "scrolled": false
   },
   "outputs": [],
   "source": [
    "loopc = 0\n",
    "loopx = 0\n",
    "maxloop = 100\n",
    "nextloop = True\n",
    "baseticks = 10\n",
    "isFile = False\n",
    "isProxy = True\n",
    "\n",
    "while nextloop:\n",
    "    # loopx = 0\n",
    "    ticks = random.randint(baseticks+5,baseticks+15); #间隔采集频率 10-30秒\n",
    "    \n",
    "    if loopx == 0:\n",
    "        os.system('cls' if os.name == 'nt' else 'clear')\n",
    "        clear()\n",
    "    \n",
    "    size = 2000\n",
    "    hashperiod = [0, 1, 2, 3, 4, 5, 6, 7, 8, 9]\n",
    "    periodk = periods[(loopx//cpair)%10]\n",
    "    periodc = hashperiod[(loopx//cpair)%10]\n",
    "    \n",
    "    if loopc > 0 :\n",
    "        size = 200\n",
    "        hashperiod = [0, 1, 0, 2, 0, 3, 0, 4, 0, 5, 0, 1, 0, 6, 0, 7, 0, 8, 0, 9]\n",
    "        periodk = periods[hashperiod[(loopx//cpair)%20]]\n",
    "        periodc = hashperiod[(loopx//cpair)%20]\n",
    "        baseticks = 15\n",
    "        \n",
    "    symbolk = loopx%cpair\n",
    "    \n",
    "    if loopc>0 and hashperiod[(loopx//cpair)%20] < 2:\n",
    "        size = 200 \n",
    "    elif loopc>0 :\n",
    "        size = 10\n",
    "    \n",
    "    #print(\"%s---OnMarketKline(%s, %s, %s)\"%(str(loopx).rjust(5,'0'), symbols[symbolk], periodk, size))\n",
    "    #print(\"%s\"%(str(loopx).rjust(5,'0')))\n",
    "    \n",
    "    size = OnMarketKline(symbols[symbolk], periodk, size, isFile)\n",
    "    if size == 0:\n",
    "        print(\"try again:\")\n",
    "        size = 2000;\n",
    "        size = OnMarketKline(symbols[symbolk], periodk, size, isFile)\n",
    "    \n",
    "    loopx = loopx + 1\n",
    "    \n",
    "    if loopx == cpair * 10 and  loopc == 0 :\n",
    "        loopc = 1\n",
    "        loopx = 0\n",
    "    elif loopx == cpair * 20 and  loopc > 0 :\n",
    "        loopc += 1\n",
    "        loopx = 0\n",
    "\n",
    "    time.sleep(ticks) \n",
    "    \n",
    "    if loopc >= maxloop:\n",
    "        nextloop = False\n",
    " \n",
    "#close connect\n",
    "connect.close()\n",
    "print(\"Exit\")"
   ]
  },
  {
   "cell_type": "code",
   "execution_count": null,
   "metadata": {},
   "outputs": [],
   "source": []
  }
 ],
 "metadata": {
  "kernelspec": {
   "display_name": "tensorflow",
   "language": "python",
   "name": "tensorflow"
  },
  "language_info": {
   "codemirror_mode": {
    "name": "ipython",
    "version": 3
   },
   "file_extension": ".py",
   "mimetype": "text/x-python",
   "name": "python",
   "nbconvert_exporter": "python",
   "pygments_lexer": "ipython3",
   "version": "3.7.1"
  }
 },
 "nbformat": 4,
 "nbformat_minor": 4
}
